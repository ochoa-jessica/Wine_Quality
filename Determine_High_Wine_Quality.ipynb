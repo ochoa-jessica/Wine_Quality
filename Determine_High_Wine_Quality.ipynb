{
 "cells": [
  {
   "cell_type": "markdown",
   "metadata": {},
   "source": [
    "## Dataset about Vinho Verde Wines\n",
    "#### Contains\n",
    "<ul>\n",
    "    <li>5000 kinds of wine</li>\n",
    "    <li>11 different physichemical properties</li>\n",
    "</ul>\n",
    "\n",
    "#### Objective\n",
    "<p> Search for factors that correlate with a wine being high-quality.</p>"
   ]
  },
  {
   "cell_type": "code",
   "execution_count": 13,
   "metadata": {},
   "outputs": [],
   "source": [
    "import pandas as pd\n",
    "import numpy as np\n",
    "import matplotlib.pyplot as plt\n",
    "import sklearn\n",
    "import seaborn as sns"
   ]
  },
  {
   "cell_type": "code",
   "execution_count": 25,
   "metadata": {},
   "outputs": [],
   "source": [
    "wine_data_df = pd.read_csv(\"vinhoVerde.csv\").sort_values(by=\"quality\", ascending=True)"
   ]
  },
  {
   "cell_type": "code",
   "execution_count": 26,
   "metadata": {},
   "outputs": [
    {
     "data": {
      "text/html": [
       "<div>\n",
       "<style scoped>\n",
       "    .dataframe tbody tr th:only-of-type {\n",
       "        vertical-align: middle;\n",
       "    }\n",
       "\n",
       "    .dataframe tbody tr th {\n",
       "        vertical-align: top;\n",
       "    }\n",
       "\n",
       "    .dataframe thead th {\n",
       "        text-align: right;\n",
       "    }\n",
       "</style>\n",
       "<table border=\"1\" class=\"dataframe\">\n",
       "  <thead>\n",
       "    <tr style=\"text-align: right;\">\n",
       "      <th></th>\n",
       "      <th>fixed acidity</th>\n",
       "      <th>volatile acidity</th>\n",
       "      <th>citric acid</th>\n",
       "      <th>residual sugar</th>\n",
       "      <th>chlorides</th>\n",
       "      <th>free sulfur dioxide</th>\n",
       "      <th>total sulfur dioxide</th>\n",
       "      <th>density</th>\n",
       "      <th>pH</th>\n",
       "      <th>sulphates</th>\n",
       "      <th>alcohol</th>\n",
       "      <th>quality</th>\n",
       "      <th>type</th>\n",
       "    </tr>\n",
       "  </thead>\n",
       "  <tbody>\n",
       "    <tr>\n",
       "      <th>5409</th>\n",
       "      <td>6.8</td>\n",
       "      <td>0.260</td>\n",
       "      <td>0.34</td>\n",
       "      <td>15.10</td>\n",
       "      <td>0.060</td>\n",
       "      <td>42.0</td>\n",
       "      <td>162.0</td>\n",
       "      <td>0.99705</td>\n",
       "      <td>3.24</td>\n",
       "      <td>0.52</td>\n",
       "      <td>10.5</td>\n",
       "      <td>3</td>\n",
       "      <td>white</td>\n",
       "    </tr>\n",
       "    <tr>\n",
       "      <th>2339</th>\n",
       "      <td>6.9</td>\n",
       "      <td>0.390</td>\n",
       "      <td>0.40</td>\n",
       "      <td>4.60</td>\n",
       "      <td>0.022</td>\n",
       "      <td>5.0</td>\n",
       "      <td>19.0</td>\n",
       "      <td>0.99150</td>\n",
       "      <td>3.31</td>\n",
       "      <td>0.37</td>\n",
       "      <td>12.6</td>\n",
       "      <td>3</td>\n",
       "      <td>white</td>\n",
       "    </tr>\n",
       "    <tr>\n",
       "      <th>3016</th>\n",
       "      <td>8.6</td>\n",
       "      <td>0.550</td>\n",
       "      <td>0.35</td>\n",
       "      <td>15.55</td>\n",
       "      <td>0.057</td>\n",
       "      <td>35.5</td>\n",
       "      <td>366.5</td>\n",
       "      <td>1.00010</td>\n",
       "      <td>3.04</td>\n",
       "      <td>0.63</td>\n",
       "      <td>11.0</td>\n",
       "      <td>3</td>\n",
       "      <td>white</td>\n",
       "    </tr>\n",
       "    <tr>\n",
       "      <th>1478</th>\n",
       "      <td>7.1</td>\n",
       "      <td>0.875</td>\n",
       "      <td>0.05</td>\n",
       "      <td>5.70</td>\n",
       "      <td>0.082</td>\n",
       "      <td>3.0</td>\n",
       "      <td>14.0</td>\n",
       "      <td>0.99808</td>\n",
       "      <td>3.40</td>\n",
       "      <td>0.52</td>\n",
       "      <td>10.2</td>\n",
       "      <td>3</td>\n",
       "      <td>red</td>\n",
       "    </tr>\n",
       "    <tr>\n",
       "      <th>459</th>\n",
       "      <td>11.6</td>\n",
       "      <td>0.580</td>\n",
       "      <td>0.66</td>\n",
       "      <td>2.20</td>\n",
       "      <td>0.074</td>\n",
       "      <td>10.0</td>\n",
       "      <td>47.0</td>\n",
       "      <td>1.00080</td>\n",
       "      <td>3.25</td>\n",
       "      <td>0.57</td>\n",
       "      <td>9.0</td>\n",
       "      <td>3</td>\n",
       "      <td>red</td>\n",
       "    </tr>\n",
       "  </tbody>\n",
       "</table>\n",
       "</div>"
      ],
      "text/plain": [
       "      fixed acidity  volatile acidity  citric acid  residual sugar  chlorides  \\\n",
       "5409            6.8             0.260         0.34           15.10      0.060   \n",
       "2339            6.9             0.390         0.40            4.60      0.022   \n",
       "3016            8.6             0.550         0.35           15.55      0.057   \n",
       "1478            7.1             0.875         0.05            5.70      0.082   \n",
       "459            11.6             0.580         0.66            2.20      0.074   \n",
       "\n",
       "      free sulfur dioxide  total sulfur dioxide  density    pH  sulphates  \\\n",
       "5409                 42.0                 162.0  0.99705  3.24       0.52   \n",
       "2339                  5.0                  19.0  0.99150  3.31       0.37   \n",
       "3016                 35.5                 366.5  1.00010  3.04       0.63   \n",
       "1478                  3.0                  14.0  0.99808  3.40       0.52   \n",
       "459                  10.0                  47.0  1.00080  3.25       0.57   \n",
       "\n",
       "      alcohol  quality   type  \n",
       "5409     10.5        3  white  \n",
       "2339     12.6        3  white  \n",
       "3016     11.0        3  white  \n",
       "1478     10.2        3    red  \n",
       "459       9.0        3    red  "
      ]
     },
     "execution_count": 26,
     "metadata": {},
     "output_type": "execute_result"
    }
   ],
   "source": [
    "wine_data_df.head()"
   ]
  },
  {
   "cell_type": "code",
   "execution_count": 27,
   "metadata": {},
   "outputs": [],
   "source": [
    "white_wine_df = wine_data_df.loc[(wine_data_df[\"type\"] == \"white\")]\n",
    "\n",
    "red_wine_df = wine_data_df.loc[(wine_data_df[\"type\"] == \"red\")]"
   ]
  },
  {
   "cell_type": "code",
   "execution_count": 32,
   "metadata": {},
   "outputs": [
    {
     "data": {
      "text/plain": [
       "quality  type \n",
       "3        red        10\n",
       "         white      20\n",
       "4        red        53\n",
       "         white     163\n",
       "5        red       681\n",
       "         white    1457\n",
       "6        red       638\n",
       "         white    2198\n",
       "7        red       199\n",
       "         white     880\n",
       "8        red        18\n",
       "         white     175\n",
       "9        white       5\n",
       "dtype: int64"
      ]
     },
     "execution_count": 32,
     "metadata": {},
     "output_type": "execute_result"
    },
    {
     "data": {
      "image/png": "[encoded data removed]",
      "text/plain": [
       "<Figure size 432x288 with 1 Axes>"
      ]
     },
     "metadata": {
      "needs_background": "light"
     },
     "output_type": "display_data"
    }
   ],
   "source": [
    "plt.rcParams[\"font.family\"] = \"avenir\"\n",
    "plt.suptitle(\"Distribution of Wine Quality and Color\", fontsize=20)\n",
    "plt.xlabel(\"xlabel\", fontsize=18)\n",
    "plt.ylabel(\"ylabel\", fontsize=16)\n",
    "\n",
    "ax = sns.countplot(x=\"quality\",\n",
    "                  hue=\"type\",\n",
    "                  data=wine_data_df,\n",
    "                  palette=[\"#da627d\", \"#f9dbbd\"])\n",
    "\n",
    "ax.set(xlabel=\"Wine Quality Rating\", ylabel=\"Number of Bottles\")\n",
    "\n",
    "wine_data_df.groupby([\"quality\", \"type\"]).size()\n"
   ]
  },
  {
   "cell_type": "code",
   "execution_count": null,
   "metadata": {},
   "outputs": [],
   "source": []
  }
 ],
 "metadata": {
  "kernelspec": {
   "display_name": "Python 3",
   "language": "python",
   "name": "python3"
  },
  "language_info": {
   "codemirror_mode": {
    "name": "ipython",
    "version": 3
   },
   "file_extension": ".py",
   "mimetype": "text/x-python",
   "name": "python",
   "nbconvert_exporter": "python",
   "pygments_lexer": "ipython3",
   "version": "3.7.3"
  }
 },
 "nbformat": 4,
 "nbformat_minor": 2
}
